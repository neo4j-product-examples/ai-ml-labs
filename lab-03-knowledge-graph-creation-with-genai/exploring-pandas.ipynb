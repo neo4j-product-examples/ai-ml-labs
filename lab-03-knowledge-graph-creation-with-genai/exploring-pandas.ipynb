{
 "cells": [
  {
   "cell_type": "markdown",
   "metadata": {
    "id": "JAPoU8Sm5E6e"
   },
   "source": [
    "<p>\n",
    "  <a href=\"https://colab.research.google.com/github/neo4j-product-examples/ai-ml-labs/blob/main/lab-03-knowledge-graph-creation-with-genai/exploring-pandas.ipynb\" target=\"_blank\">\n",
    "    <img src=\"https://cloud.google.com/ml-engine/images/colab-logo-32px.png\" alt=\"Colab logo\"> Run in Colab\n",
    "  </a>\n",
    "</p>"
   ]
  },
  {
   "cell_type": "markdown",
   "metadata": {
    "id": "YasYy1BqRHY8"
   },
   "source": [
    "We're going to play around with some of our structured data. Let’s get it from cloud storage."
   ]
  },
  {
   "cell_type": "code",
   "execution_count": null,
   "metadata": {
    "id": "qwKogqD_He_e"
   },
   "outputs": [],
   "source": [
    "!wget https://storage.googleapis.com/neo4j-datasets/form13/form13-v2.csv"
   ]
  },
  {
   "cell_type": "markdown",
   "metadata": {},
   "source": [
    "Now let's load our data into memory and get a peek at it."
   ]
  },
  {
   "cell_type": "code",
   "execution_count": null,
   "metadata": {},
   "outputs": [],
   "source": [
    "import pandas as pd\n",
    "df = pd.read_csv('form13-v2.csv')\n",
    "df"
   ]
  },
  {
   "cell_type": "markdown",
   "metadata": {},
   "source": [
    "Each row of the data represents common stock a manager holds within a given report period.  The relevant columns are \n",
    "- `ManagerName`: Name of filing manager for the form13 - the entity owning the stock. We will consider `managerName` a unique id for our intents and purposes. \n",
    "- `reportCalendarOrQuarter`: The report calendar year of quarter\n",
    "- `companyName`: Name of the stock issuing company\n",
    "- `cusip`: Unique 9-digit identifier for the stock\n",
    "- `value`: Market value of the stock\n",
    "- `shares`: number of shares\n",
    "\n",
    "\n",
    "Let's do a few aggregations to understand the data better."
   ]
  },
  {
   "cell_type": "markdown",
   "metadata": {},
   "source": [
    "## Aggregations"
   ]
  },
  {
   "cell_type": "code",
   "execution_count": null,
   "metadata": {},
   "outputs": [],
   "source": [
    "# number of managers\n",
    "unique_managers = df.managerName.unique().size\n",
    "print(f'Number of unique managers: {unique_managers:,}')"
   ]
  },
  {
   "cell_type": "code",
   "execution_count": null,
   "metadata": {},
   "outputs": [],
   "source": [
    "# number of companies (use cusip)\n",
    "unique_companies = df.cusip.unique().size\n",
    "print(f'Number of unique companys: {unique_companies:,}')"
   ]
  },
  {
   "cell_type": "code",
   "execution_count": null,
   "metadata": {},
   "outputs": [],
   "source": [
    "# number of holdings per quarter\n",
    "df[['reportCalendarOrQuarter', 'cusip']].groupby('reportCalendarOrQuarter').count().rename(columns={'cusip':'holdingCount'})"
   ]
  },
  {
   "cell_type": "code",
   "execution_count": null,
   "metadata": {},
   "outputs": [],
   "source": [
    "# distribution of holdings by managers\n",
    "\n",
    "manager_count_df = (df[['managerName', 'cusip']]\n",
    "                    .groupby(['managerName'])\n",
    "                    .count()\n",
    "                    .rename(columns={'cusip':'holdingCount'}))\n",
    "manager_count_df.hist(bins=50)"
   ]
  },
  {
   "cell_type": "code",
   "execution_count": null,
   "metadata": {},
   "outputs": [],
   "source": [
    "# distribution of holdings by managers\n",
    "\n",
    "print(f'--- Manager Holding Distribution Stats ---')\n",
    "\n",
    "print(f'Min: {manager_count_df.holdingCount.min():,}')\n",
    "print(f'Mean: {round(manager_count_df.holdingCount.mean(), 2):,}')\n",
    "print(f'95th percentile: {round(manager_count_df.holdingCount.quantile(q=0.95),2):,}')\n",
    "print(f'99th percentile: {round(manager_count_df.holdingCount.quantile(q=0.99),2):,}')\n",
    "print(f'Max: {manager_count_df.holdingCount.max():,}')"
   ]
  },
  {
   "cell_type": "markdown",
   "metadata": {},
   "source": [
    "You will notice that we have a skewed distribution for managers.  Most managers own relatively few assets, while a small subset owns a lot.  This imbalance will be important to remember for later labs as we analyze our data inside graph. \n",
    "\n",
    "You will also notice below that the managers who own the most overtime tend to be large institutions. "
   ]
  },
  {
   "cell_type": "code",
   "execution_count": null,
   "metadata": {},
   "outputs": [],
   "source": [
    "# Who are the managers that have had the most holdings overtime\n",
    "\n",
    "manager_count_df.sort_values(by='holdingCount', ascending=False).head(10)"
   ]
  }
 ],
 "metadata": {
  "colab": {
   "name": "exploring_pandas.ipynb",
   "toc_visible": true
  },
  "environment": {
   "kernel": "python3",
   "name": "pytorch-gpu.1-13.m108",
   "type": "gcloud",
   "uri": "gcr.io/deeplearning-platform-release/pytorch-gpu.1-13:m108"
  },
  "kernelspec": {
   "display_name": "PySpark (Local)",
   "language": "python",
   "name": "local-pyspark"
  },
  "language_info": {
   "codemirror_mode": {
    "name": "ipython",
    "version": 3
   },
   "file_extension": ".py",
   "mimetype": "text/x-python",
   "name": "python",
   "nbconvert_exporter": "python",
   "pygments_lexer": "ipython3",
   "version": "3.7.12"
  },
  "vscode": {
   "interpreter": {
    "hash": "31f2aee4e71d21fbe5cf8b01ff0e069b9275f58929596ceb00d14d90e3e16cd6"
   }
  }
 },
 "nbformat": 4,
 "nbformat_minor": 4
}
